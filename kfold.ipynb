{
 "cells": [
  {
   "cell_type": "code",
   "execution_count": 6,
   "metadata": {},
   "outputs": [
    {
     "name": "stdout",
     "output_type": "stream",
     "text": [
      "Mean Squared Error for each fold: [545507072.7630258, 862933885.2569441, 2132933531.0026405, 7228505847.717662, 24940473921.085182]\n",
      "Average Mean Squared Error: 7142070851.565091\n"
     ]
    }
   ],
   "source": [
    "import pandas as pd\n",
    "import numpy as np\n",
    "import re\n",
    "from sklearn.model_selection import KFold\n",
    "from sklearn.ensemble import RandomForestRegressor\n",
    "from sklearn.metrics import mean_squared_error\n",
    "from sklearn.impute import SimpleImputer\n",
    "from sklearn.preprocessing import StandardScaler\n",
    "\n",
    "# Load the data\n",
    "file_path = 'job_market.csv'\n",
    "df = pd.read_csv(file_path)\n",
    "\n",
    "# Preprocess the data\n",
    "def clean_salary(salary):\n",
    "    salary = re.sub(r'₹|,|a year|per month|per annum|lakh|crore', '', salary)\n",
    "    salary = salary.strip()\n",
    "    salary_range = re.findall(r'\\d+', salary)\n",
    "    if len(salary_range) == 2:\n",
    "        return (float(salary_range[0]) + float(salary_range[1])) / 2\n",
    "    elif len(salary_range) == 1:\n",
    "        return float(salary_range[0])\n",
    "    else:\n",
    "        return np.nan\n",
    "\n",
    "df['Salary'] = df['Salary'].apply(lambda x: clean_salary(str(x)))\n",
    "df['Salary'] = df['Salary'].fillna(df['Salary'].median())\n",
    "\n",
    "# Encode categorical variables\n",
    "df_encoded = pd.get_dummies(df, drop_first=True)\n",
    "\n",
    "X = df_encoded.drop('Salary', axis=1)\n",
    "y = df_encoded['Salary']\n",
    "\n",
    "# Impute missing values\n",
    "imputer = SimpleImputer(strategy='median')\n",
    "X = imputer.fit_transform(X)\n",
    "\n",
    "# Scale features\n",
    "scaler = StandardScaler()\n",
    "X = scaler.fit_transform(X)\n",
    "\n",
    "# Initialize KFold with 5 splits\n",
    "kf = KFold(n_splits=5, shuffle=True, random_state=42)\n",
    "\n",
    "mse_scores = []\n",
    "\n",
    "# Perform K-Fold Cross-Validation\n",
    "for train_index, test_index in kf.split(X):\n",
    "    X_train, X_test = X[train_index], X[test_index]\n",
    "    y_train, y_test = y.iloc[train_index], y.iloc[test_index]\n",
    "    \n",
    "    model = RandomForestRegressor(n_estimators=100, random_state=42)\n",
    "    model.fit(X_train, y_train)\n",
    "    \n",
    "    y_pred = model.predict(X_test)\n",
    "    mse = mean_squared_error(y_test, y_pred)\n",
    "    mse_scores.append(mse)\n",
    "\n",
    "print(f'Mean Squared Error for each fold: {mse_scores}')\n",
    "print(f'Average Mean Squared Error: {np.mean(mse_scores)}')"
   ]
  }
 ],
 "metadata": {
  "kernelspec": {
   "display_name": "air_quality_project",
   "language": "python",
   "name": "python3"
  },
  "language_info": {
   "codemirror_mode": {
    "name": "ipython",
    "version": 3
   },
   "file_extension": ".py",
   "mimetype": "text/x-python",
   "name": "python",
   "nbconvert_exporter": "python",
   "pygments_lexer": "ipython3",
   "version": "3.8.20"
  }
 },
 "nbformat": 4,
 "nbformat_minor": 2
}
